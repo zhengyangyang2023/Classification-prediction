{
 "cells": [
  {
   "cell_type": "markdown",
   "metadata": {},
   "source": [
    "### 0.导入包"
   ]
  },
  {
   "cell_type": "code",
   "execution_count": 1,
   "metadata": {},
   "outputs": [],
   "source": [
    "from scipy.optimize import minimize\n",
    "import numpy as np\n",
    "import pandas as pd"
   ]
  },
  {
   "cell_type": "markdown",
   "metadata": {},
   "source": [
    "### 1.定义参数估计的类"
   ]
  },
  {
   "cell_type": "code",
   "execution_count": 2,
   "metadata": {},
   "outputs": [],
   "source": [
    "class myclass():\n",
    "    def __init__(self, train_begin, data,para_initial,methods):\n",
    "        self.train_begin = train_begin\n",
    "        self.Train_data = data[(train_begin-1)*12 : (train_begin-1)*12 + 48] # 训练集\n",
    "        self.Test_data = data[(train_begin-1)*12 + 48: (train_begin-1)*12 + 60] # 测试集\n",
    "\n",
    "        self.X = np.concatenate((np.ones((self.Train_data.shape[0],1)), self.Train_data.iloc[:,2:].values), axis=1) # 解释变量\n",
    "        self.y = self.Train_data.iloc[:,1].values # 被解释变量\n",
    "        self.para_initial = para_initial # 参数初始值\n",
    "        self.methods = methods # 优化所用算法\n",
    "\n",
    "    def myloss(self, para): # 定义损失函数为：准确率\n",
    "        lower = para[-2]\n",
    "        upper = para[-1]\n",
    "\n",
    "        yhat = np.dot(self.X, np.array(para[:self.X.shape[1]]))\n",
    "        yhat1 = yhat.copy()\n",
    "        yhat1[yhat1<=lower] = -1; yhat1[(yhat1>lower)&(yhat1<upper)] = 0; yhat1[yhat1>=upper] = 1; \n",
    "\n",
    "        # loss = sum((yhat1 - y)**2)\n",
    "        loss = (yhat1 != self.y).sum() / len(self.y)\n",
    "        return loss\n",
    "\n",
    "    def myoptimal(self): # 对每一个参数初值，最小化损失函数，得到最优参数\n",
    "        Res = []\n",
    "        for method in self.methods:\n",
    "            for para0 in self.para_initial:\n",
    "                res = minimize(self.myloss, para0, method = method, bounds = ((None,None),)*self.X.shape[1] +  ((-10,-0.01),) + ((0.01,10),))\n",
    "                Res.append(list(para0) + list(res.x) + [1 - res.fun, method])\n",
    "\n",
    "        Res1 = pd.DataFrame(data = Res, columns = ['b'+str(i)+'initial' for i in range(self.X.shape[1])] + ['lowerinitial', 'upperinitial']+\\\n",
    "            ['b'+str(i) for i in range(self.X.shape[1])]+ ['lower', 'upper', 'train_acc', 'method'])\n",
    "        # 返回 参数初值、最优参数、训练集准确率、优化算法名\n",
    "        return Res1\n",
    "\n",
    "\n",
    "    def testacc(self,para_hat): # 测试集的预测精度\n",
    "        lower = para_hat[-2]\n",
    "        upper = para_hat[-1]\n",
    "        ytest = self.Test_data.iloc[:,1].values\n",
    "        Xtest = np.concatenate((np.ones((self.Test_data.shape[0],1)), self.Test_data.iloc[:,2:].values), axis=1)\n",
    "\n",
    "        yhat = np.dot(Xtest, np.array(para_hat[:Xtest.shape[1]]))\n",
    "        yhat1 = yhat.copy()\n",
    "        yhat1[yhat1<=lower] = -1; yhat1[(yhat1>lower)&(yhat1<upper)] = 0; yhat1[yhat1>=upper] = 1; \n",
    "        acc = (yhat1 == ytest).sum() / len(ytest)\n",
    "        return acc\n",
    "\n",
    "    def top10(self): # 返回预测准确率最高参数估计值\n",
    "        Res1 = self.myoptimal()\n",
    "        Restop10 = Res1.nlargest(10,'train_acc')[['b'+str(i) for i in range(self.X.shape[1])]+ ['lower', 'upper','train_acc']]\n",
    "        Restop10['test_acc'] = Restop10[['b'+str(i) for i in range(self.X.shape[1])]+ ['lower', 'upper']].apply(lambda x: self.testacc(x), axis=1)\n",
    "        Restop10['train_begin'] = str(self.train_begin+2014)+'01'\n",
    "        return Restop10\n",
    "\n",
    "    "
   ]
  },
  {
   "cell_type": "markdown",
   "metadata": {},
   "source": [
    "### 2.导入数据、设置参数初值"
   ]
  },
  {
   "cell_type": "code",
   "execution_count": 3,
   "metadata": {},
   "outputs": [],
   "source": [
    "data = pd.read_excel(\"input.xlsx\", sheet_name=0)\n",
    "\n",
    "random = np.random.RandomState(0)\n",
    "n=300 #随机初始值的个数\n",
    "numX = data.shape[1]-2 #自变量的个数\n",
    "para_initial = np.concatenate(\n",
    "    (random.randint(-20,21,(n,numX+1)), random.uniform(-10,-0.01,size=(n,1)), random.uniform(0.01,10,size=(n,1))), axis=1)\n",
    "\n",
    "methods = ['Nelder-Mead', 'Powell']"
   ]
  },
  {
   "cell_type": "markdown",
   "metadata": {},
   "source": [
    "### 3.计算最优准确率下的参数估计值，并输入到excel文件"
   ]
  },
  {
   "cell_type": "code",
   "execution_count": 4,
   "metadata": {},
   "outputs": [],
   "source": [
    "RES = dict()\n",
    "for train_begin in [1,2,3]:\n",
    "    a = myclass(train_begin,data,para_initial,methods)\n",
    "    RES[f\"{train_begin}\"] = a.top10()\n"
   ]
  },
  {
   "cell_type": "code",
   "execution_count": 5,
   "metadata": {},
   "outputs": [],
   "source": [
    "with pd.ExcelWriter('output.xlsx') as EW:\n",
    "    RES['1'].to_excel(EW, sheet_name = \"训练集开始时间201501\", index = False)\n",
    "    RES['2'].to_excel(EW, sheet_name = \"训练集开始时间201601\", index = False)\n",
    "    RES['3'].to_excel(EW, sheet_name = \"训练集开始时间201701\", index = False)\n",
    "\n"
   ]
  }
 ],
 "metadata": {
  "kernelspec": {
   "display_name": "Python 3.9.7 ('base')",
   "language": "python",
   "name": "python3"
  },
  "language_info": {
   "codemirror_mode": {
    "name": "ipython",
    "version": 3
   },
   "file_extension": ".py",
   "mimetype": "text/x-python",
   "name": "python",
   "nbconvert_exporter": "python",
   "pygments_lexer": "ipython3",
   "version": "3.9.7"
  },
  "orig_nbformat": 4,
  "vscode": {
   "interpreter": {
    "hash": "ddf7946fc52008328581826fad6b41b64d259fd2ed14ccd2132ec6faa40c5a9d"
   }
  }
 },
 "nbformat": 4,
 "nbformat_minor": 2
}
